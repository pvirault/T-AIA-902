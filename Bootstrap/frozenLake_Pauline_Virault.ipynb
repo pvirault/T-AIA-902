{
 "cells": [
  {
   "cell_type": "code",
   "execution_count": 3,
   "metadata": {},
   "outputs": [],
   "source": [
    "# import dependencies\n",
    "import gym\n",
    "import numpy as np\n",
    "import random\n",
    "import matplotlib.pyplot as plt"
   ]
  },
  {
   "cell_type": "code",
   "execution_count": 4,
   "metadata": {},
   "outputs": [],
   "source": [
    "# Initialize the environment\n",
    "\n",
    "# each tile is represented by a letter as follow\n",
    "# (S: starting point, safe)\n",
    "# (F: frozen surface, safe)\n",
    "# (H: hole, stuck forever)\n",
    "# (G: goal, safe)\n",
    "\n",
    "map=[\"SFFF\", \"FHFH\", \"FFFH\", \"HFFG\"]\n",
    "env = gym.make('FrozenLake-v1', is_slippery=True)\n",
    "# env = gym.make('FrozenLake-v1', desc=map, map_name=\"My personnal map\", render_mode=\"human\", is_slippery=False)"
   ]
  },
  {
   "cell_type": "code",
   "execution_count": 5,
   "metadata": {},
   "outputs": [
    {
     "name": "stdout",
     "output_type": "stream",
     "text": [
      "Q-table before training:\n",
      "[[0. 0. 0. 0.]\n",
      " [0. 0. 0. 0.]\n",
      " [0. 0. 0. 0.]\n",
      " [0. 0. 0. 0.]\n",
      " [0. 0. 0. 0.]\n",
      " [0. 0. 0. 0.]\n",
      " [0. 0. 0. 0.]\n",
      " [0. 0. 0. 0.]\n",
      " [0. 0. 0. 0.]\n",
      " [0. 0. 0. 0.]\n",
      " [0. 0. 0. 0.]\n",
      " [0. 0. 0. 0.]\n",
      " [0. 0. 0. 0.]\n",
      " [0. 0. 0. 0.]\n",
      " [0. 0. 0. 0.]\n",
      " [0. 0. 0. 0.]]\n"
     ]
    }
   ],
   "source": [
    "# Alternatively, the gym library can also directly \n",
    "# give us the number of states and actions \n",
    "# using \"env.observation_space.n\" and \"env.action_space.n\"\n",
    "\n",
    "nb_states = env.observation_space.n  # = 16\n",
    "nb_actions = env.action_space.n      # = 4\n",
    "\n",
    "# We re-initialize the Q-table\n",
    "# We have Q-table with 16 rows (our 16 states) and 4 columns (our 4 actions).\n",
    "# We have no information at all. Every value is set to zero.\n",
    "qtable = np.zeros((nb_states, nb_actions))\n",
    "\n",
    "# Hyperparameters\n",
    "total_episodes = 15000  # Total number of episodes\n",
    "max_steps = 100         # Max steps per episode\n",
    "\n",
    "learning_rate = 0.5     # Learning rate\n",
    "gamma = 0.9            # Discount rate\n",
    "\n",
    "epsilon = 1.0           # Exploration rate\n",
    "max_epsilon = 1.0       # Exploration probability at start\n",
    "min_epsilon = 0.01      # Minimum exploration probability \n",
    "decay_rate = 0.001      # Exponential decay rate for exploration prob\n",
    "\n",
    "# List of outcomes to plot\n",
    "outcomes = []\n",
    "\n",
    "print('Q-table before training:')\n",
    "print(qtable)"
   ]
  },
  {
   "cell_type": "code",
   "execution_count": 6,
   "metadata": {},
   "outputs": [
    {
     "name": "stderr",
     "output_type": "stream",
     "text": [
      "/Users/PAULINE/Desktop/MSC Pro/Semestre 10/T-AIA-902-TLS_1/Bootstrap/env/lib/python3.11/site-packages/gym/utils/passive_env_checker.py:233: DeprecationWarning: `np.bool8` is a deprecated alias for `np.bool_`.  (Deprecated NumPy 1.24)\n",
      "  if not isinstance(terminated, (bool, np.bool8)):\n"
     ]
    }
   ],
   "source": [
    "# Training\n",
    "\n",
    "for episode in range(total_episodes):\n",
    "  # Reset the environment\n",
    "  state = env.reset()[0]\n",
    "  terminated = False\n",
    "  \n",
    "  # By default, we consider our outcome to be a failure\n",
    "  outcomes.append(\"Failure\")\n",
    "  \n",
    "  # Until the agent gets stuck in a hole or reaches the goal, keep training it\n",
    "  for step in range(max_steps):\n",
    "      # Generate a random number between 0 and 1\n",
    "      rnd = np.random.random()\n",
    "\n",
    "      # If random number < epsilon, take a random action\n",
    "      if rnd < epsilon:\n",
    "          action = env.action_space.sample()\n",
    "      # Else, take the action with the highest value in the current state\n",
    "      else:\n",
    "          action = np.argmax(qtable[state])\n",
    "\n",
    "      # If there's no best action (only zeros), take a random one\n",
    "      # else:\n",
    "      #   action = env.action_space.sample()\n",
    "            \n",
    "      # Implement this action and move the agent in the desired direction\n",
    "      new_state, reward, terminated, truncated, info = env.step(action)\n",
    "\n",
    "      # Update Q(s,a)\n",
    "      qtable[state, action] = qtable[state, action] + \\\n",
    "                              learning_rate * (reward + gamma * np.max(qtable[new_state]) - qtable[state, action])\n",
    "\n",
    "      # Update our current state\n",
    "      state = new_state\n",
    "\n",
    "      # If we have a reward, it means that our outcome is a success\n",
    "      if reward:\n",
    "        outcomes[-1] = \"Success\"\n",
    "\n",
    "      # If terminated (if we're dead) : finish episode\n",
    "      if terminated == True: \n",
    "        break\n",
    "\n",
    "  # Update epsilon\n",
    "  epsilon = max(epsilon - decay_rate, 0)"
   ]
  },
  {
   "cell_type": "code",
   "execution_count": 7,
   "metadata": {},
   "outputs": [
    {
     "name": "stdout",
     "output_type": "stream",
     "text": [
      "Q-table after training:\n",
      "[[8.79494247e-02 2.81159094e-03 2.90179108e-03 2.79761855e-03]\n",
      " [1.80854326e-03 1.31602673e-03 2.27850976e-03 8.39005402e-02]\n",
      " [4.10658055e-02 1.55272534e-03 1.44985230e-03 1.52475668e-03]\n",
      " [9.63159751e-04 9.01972758e-04 1.01450839e-03 1.28455635e-03]\n",
      " [1.19564204e-01 2.87823311e-03 3.42302551e-03 2.32667854e-03]\n",
      " [0.00000000e+00 0.00000000e+00 0.00000000e+00 0.00000000e+00]\n",
      " [2.08213532e-04 2.14679097e-04 1.93501087e-02 1.10925651e-04]\n",
      " [0.00000000e+00 0.00000000e+00 0.00000000e+00 0.00000000e+00]\n",
      " [5.89997427e-04 6.79441529e-03 4.70873113e-03 2.24701933e-01]\n",
      " [2.21686580e-02 3.76971866e-01 1.63734691e-02 1.44053813e-02]\n",
      " [4.62913817e-01 5.17001906e-03 3.60737941e-03 4.73219473e-03]\n",
      " [0.00000000e+00 0.00000000e+00 0.00000000e+00 0.00000000e+00]\n",
      " [0.00000000e+00 0.00000000e+00 0.00000000e+00 0.00000000e+00]\n",
      " [3.62302288e-02 4.44898510e-02 6.00458060e-01 4.76615704e-02]\n",
      " [1.02105117e-01 9.49582914e-01 1.07268402e-01 1.11096106e-01]\n",
      " [0.00000000e+00 0.00000000e+00 0.00000000e+00 0.00000000e+00]]\n"
     ]
    }
   ],
   "source": [
    "print('Q-table after training:')\n",
    "print(qtable)"
   ]
  },
  {
   "cell_type": "code",
   "execution_count": 8,
   "metadata": {},
   "outputs": [
    {
     "data": {
      "image/png": "[encoded data removed]",
      "text/plain": [
       "<Figure size 1200x500 with 1 Axes>"
      ]
     },
     "metadata": {},
     "output_type": "display_data"
    }
   ],
   "source": [
    "# Plot outcomes\n",
    "plt.figure(figsize=(12, 5))\n",
    "plt.xlabel(\"Run number\")\n",
    "plt.ylabel(\"Outcome\")\n",
    "ax = plt.gca()\n",
    "ax.set_facecolor('#efeeea')\n",
    "plt.bar(range(len(outcomes)), outcomes, color=\"#0A047A\", width=1.0)\n",
    "plt.show()"
   ]
  },
  {
   "cell_type": "code",
   "execution_count": 9,
   "metadata": {},
   "outputs": [
    {
     "name": "stdout",
     "output_type": "stream",
     "text": [
      "Mean Step: 35.44086021505376\n",
      "Success rate: 69.89247311827957 %\n"
     ]
    }
   ],
   "source": [
    "env.reset()\n",
    "\n",
    "episodes = 100\n",
    "success_rate = []\n",
    "steps = []\n",
    "\n",
    "# Evaluation\n",
    "for episode in range(episodes):\n",
    "    state = env.reset()[0]\n",
    "    step = 0\n",
    "    terminated = False\n",
    "    \n",
    "    # Until the agent gets stuck or reaches the goal, keep training it\n",
    "    for step in range(max_steps):\n",
    "        # Choose the action with the highest value in the current state\n",
    "        action = np.argmax(qtable[state,:])\n",
    "\n",
    "        # Implement this action and move the agent in the desired direction\n",
    "        new_state, reward, terminated, truncated, info = env.step(action)\n",
    "        \n",
    "        if terminated:\n",
    "            success_rate.append(int(reward == 1))\n",
    "            steps.append(step)\n",
    "            \n",
    "            break\n",
    "\n",
    "        # Update our current state\n",
    "        state = new_state\n",
    "\n",
    "env.close()\n",
    "\n",
    "# Let's check our success rate!\n",
    "print(\"Mean Step:\", np.mean(steps))\n",
    "print(\"Success rate:\", np.mean(success_rate)*100, \"%\")"
   ]
  }
 ],
 "metadata": {
  "kernelspec": {
   "display_name": "env",
   "language": "python",
   "name": "python3"
  },
  "language_info": {
   "codemirror_mode": {
    "name": "ipython",
    "version": 3
   },
   "file_extension": ".py",
   "mimetype": "text/x-python",
   "name": "python",
   "nbconvert_exporter": "python",
   "pygments_lexer": "ipython3",
   "version": "3.11.5"
  }
 },
 "nbformat": 4,
 "nbformat_minor": 2
}
